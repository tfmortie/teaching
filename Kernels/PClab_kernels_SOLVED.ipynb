{
 "cells": [
  {
   "cell_type": "markdown",
   "metadata": {},
   "source": [
    "# Linear basis functions and kernels"
   ]
  },
  {
   "cell_type": "markdown",
   "metadata": {},
   "source": [
    "## Introduction"
   ]
  },
  {
   "cell_type": "markdown",
   "metadata": {},
   "source": [
    "In this PC-lab, we will have a look at two particular strategies in order to be able to analyze non-linear datasets, which are called _linear basis functions expansion_ and _kernels_. \n",
    "\n",
    "We will first have a look at linear basis functions. Next we will turn a logistic regression model to a kernel logistic regression model ourselves. Finally we will study kernel ridge regression on a real-world dataset, where we will predict the compressive strength of concrete based on its composition and age. "
   ]
  },
  {
   "cell_type": "markdown",
   "metadata": {},
   "source": [
    "## Linear basis functions"
   ]
  },
  {
   "cell_type": "markdown",
   "metadata": {},
   "source": [
    "When trying to solve a binary classification problem, classifiers usually try to separate the positive from the negative class. Often, linear models are not capable of making this separation. An option to deal with this problem is to find an (extended) basis in which the classes are (almost) linearly separable. \n",
    "\n",
    "As an example, consider the binary classification problem in the figure below. The data depicted in this figure originates from a(n) (unknown) joint distribution, for which the Bayes-optimal decision boundary (in case of the 0/1 loss) is a circle. It is clear that the classes are not linearly separable in the original feature space (which is $\\mathbb{R}^2$). An option is to extend this space using a set of non-linear functions $\\phi_1 (\n",
    "x_1,x_2), ... , \\phi_m (x_1,x_2)$ (note that the identity map can also be chosen for $\\phi_i$). Using these transformations, the representation of an instance $\\mathbf{x_i} = (x_{i,1},x_{i,2})$ becomes $\\mathbf{x_i} = (x_{i,1},x_{i,2}) \\rightarrow \\phi_1(x_{i,1},x_{i,2}),..., \\phi_m(x_{i,1},x_{i,2})$. "
   ]
  },
  {
   "cell_type": "markdown",
   "metadata": {},
   "source": [
    "<div class=\"alert alert-success\">\n",
    "\n",
    "<b>EXERCISE 1 (warm-up): \n",
    "<br>\n",
    "a) Generate a dataset according to the code that is given. Have a look at the documentation [here](http://scikit-learn.org/stable/modules/generated/sklearn.datasets.make_circles.html). \n",
    "<br>\n",
    "b) Which features would you construct in order to separate these two classes? \n",
    "<br>\n",
    "c) Use logistic regression in order to make sure your features are working (make sure you evaluate the performance on a separate test set). In other words, fit a logistic regression model on both the original features and your new features. What's the difference in accuracy between the two? </b>\n",
    "</div>"
   ]
  },
  {
   "cell_type": "code",
   "execution_count": null,
   "metadata": {
    "scrolled": true
   },
   "outputs": [],
   "source": [
    "##1a: \n",
    "import numpy as np\n",
    "from sklearn.datasets import make_circles\n",
    "from sklearn.linear_model import LogisticRegression\n",
    "from sklearn.metrics import accuracy_score\n",
    "import matplotlib.pyplot as plt\n",
    "import pandas as pd\n",
    "\n",
    "from IPython.display import display, HTML\n",
    "\n",
    "%matplotlib inline\n",
    "\n",
    "plt.style.use('seaborn-white')"
   ]
  },
  {
   "cell_type": "code",
   "execution_count": null,
   "metadata": {},
   "outputs": [],
   "source": [
    "circles_train, labels_train = make_circles(n_samples=400, noise=0.1, factor=0.6, random_state=23)\n",
    "circles_test, labels_test = make_circles(n_samples=400, noise=0.1, factor=0.6, random_state=85)\n",
    "blues = labels_train == 0\n",
    "reds = labels_train == 1\n",
    "\n",
    "fig, ax = plt.subplots()\n",
    "ax.scatter(circles_train[reds,0],circles_train[reds,1], c='r');\n",
    "ax.scatter(circles_train[blues,0],circles_train[blues,1], c='b');\n",
    "ax.set_xlabel(r'$X_1$', size=18)\n",
    "ax.set_ylabel(r'$X_2$', size=18)\n",
    "plt.show()"
   ]
  },
  {
   "cell_type": "code",
   "execution_count": null,
   "metadata": {},
   "outputs": [],
   "source": [
    "##1b: \n",
    "circles_train_new = circles_train[:,0]**2 + circles_train[:,1]**2\n",
    "circles_test_new = circles_test[:,0]**2 + circles_test[:,1]**2"
   ]
  },
  {
   "cell_type": "code",
   "execution_count": null,
   "metadata": {},
   "outputs": [],
   "source": [
    "##1c: \n",
    "mesh_x1, mesh_x2 = np.meshgrid(np.linspace(-2,2,100),np.linspace(-2,2,100))\n",
    "grid = np.asarray([[x1,x2] for x1,x2 in zip(mesh_x1.ravel(), mesh_x2.ravel())])\n",
    "\n",
    "lr = LogisticRegression(penalty='l2')\n",
    "lr.fit(circles_train,labels_train)\n",
    "pred_before = lr.predict(circles_test)\n",
    "Z = lr.predict(grid)\n",
    "Z = Z.reshape(mesh_x1.shape)\n",
    "acc_before = accuracy_score(labels_train, pred_before)\n",
    "\n",
    "fig, ax = plt.subplots()\n",
    "ax.contourf(mesh_x1, mesh_x2, Z, cmap=plt.cm.Paired)\n",
    "ax.scatter(circles_train[reds,0],circles_train[reds,1], c='red');\n",
    "ax.scatter(circles_train[blues,0],circles_train[blues,1], c='blue');\n",
    "ax.set_xlabel(r'$X_1$', size=18)\n",
    "ax.set_ylabel(r'$X_2$', size=18)\n",
    "plt.show()\n",
    "print('Accuracy original features: ' + str(acc_before))\n",
    "\n",
    "lr.fit(circles_train_new.reshape(-1,1),labels_train)\n",
    "pred_after = lr.predict(circles_test_new.reshape(-1,1))\n",
    "grid_new = grid[:,0]**2 + grid[:,1]**2\n",
    "Z = lr.predict(grid_new.reshape(-1,1))\n",
    "Z = Z.reshape(mesh_x1.shape)\n",
    "acc_after = accuracy_score(labels_test, pred_after)\n",
    "fig, ax = plt.subplots()\n",
    "ax.contourf(mesh_x1, mesh_x2, Z, cmap=plt.cm.Paired)\n",
    "ax.scatter(circles_train[reds,0],circles_train[reds,1], c='red');\n",
    "ax.scatter(circles_train[blues,0],circles_train[blues,1], c='blue');\n",
    "ax.set_xlabel(r'$X_1$', size=18)\n",
    "ax.set_ylabel(r'$X_2$', size=18)\n",
    "plt.show()\n",
    "print('Accuracy expanded features: ' + str(acc_after))"
   ]
  },
  {
   "cell_type": "markdown",
   "metadata": {},
   "source": [
    "# Kernels"
   ]
  },
  {
   "cell_type": "markdown",
   "metadata": {},
   "source": [
    "Other methods exist to perform classification or regression tasks in an extended space. A general approach of doing so, is using so-called _kernels_. By using a computational shortcut, which is called the _kernel trick_, an explicit calculation of this extended space is not needed, and using a dot-product between two input vectors $\\mathbf{x_i}$ and $\\mathbf{x_j}$ suffices. The most simple kernel is the _linear kernel_, for which the kernel function looks as follows: \n",
    "\n",
    "\\begin{equation}\n",
    "k(\\mathbf{x_i},\\mathbf{x_j}) = \\mathbf{x_i}^T\\mathbf{x_j}. \n",
    "\\end{equation}\n",
    "\n",
    "Consider the following polynomial kernel function given by: \n",
    "\\begin{equation}\n",
    "k(\\mathbf{x_i},\\mathbf{x_j}) = (\\mathbf{x_i}^T\\mathbf{x_j})^2. \n",
    "\\end{equation}\n",
    "\n",
    "Let again be $\\mathbf{x_i} = (x_{i,1},x_{i,2})$. Then we can give a simple illustration of the kernel trick by writing: \n"
   ]
  },
  {
   "cell_type": "markdown",
   "metadata": {},
   "source": [
    "\\begin{align}\n",
    "k(\\mathbf{x_i},\\mathbf{x_j}) &= (\\mathbf{x_i}^T\\mathbf{x_j})^2 = (x_{i,1}x_{j,1} + x_{i,2}x_{j,2})^2 \\\\\n",
    "        &= x_{i,1}^2x_{j,1}^2 + x_{i,2}^2x_{j,2}^2 + 2x_{i,1}x_{j,1}x_{i,2}x_{j,2} \\\\\n",
    "        &= (x_{i,1}^2, x_{i,2}^2, \\sqrt{2} x_{i,1}x_{i,2})(x_{j,1}^2, x_{j,2}^2, \\sqrt{2} x_{j,1}x_{j,2}) \\\\\n",
    "        &= \\phi(\\mathbf{x_i})^T\\phi(\\mathbf{x_j}). \n",
    "\\end{align}"
   ]
  },
  {
   "cell_type": "markdown",
   "metadata": {},
   "source": [
    "This shows that the squared term of the dot product of vectors $\\mathbf{x_i}$ and $\\mathbf{x_j}$ is equivalent to the the product of the explicit feature mapping $\\mathbf{\\phi(x_i)}$ and $\\mathbf{\\phi(x_j)}$. "
   ]
  },
  {
   "cell_type": "markdown",
   "metadata": {},
   "source": [
    "Another popular kernel is the _radial basis functions (rbf)_ kernel. The feature space implied by this kernel is infinite-dimensional: \n",
    "\\begin{align}\n",
    "k(\\mathbf{x_i},\\mathbf{x_j}) = \\left( \\exp{- \\frac{||\\mathbf{x_i}-\\mathbf{x_j}||^2}{2\\sigma^{2}}} \\right). \n",
    "\\end{align}"
   ]
  },
  {
   "cell_type": "markdown",
   "metadata": {},
   "source": [
    "Note that _kernel methods_ in machine learning make use of the kernel (Gramm) matrix $K$, which is defined as: \n",
    "\\begin{equation}\n",
    "K = \n",
    "\\begin{bmatrix}\n",
    "    k(\\mathbf{x_1},\\mathbf{x_1}) & ... & k(\\mathbf{x_1},\\mathbf{x_n}) \\\\\n",
    "    \\vdots & & \\vdots \\\\\n",
    "    k(\\mathbf{x_n},\\mathbf{x_1}) & ... & k(\\mathbf{x_n},\\mathbf{x_n}) \\\\\n",
    "\\end{bmatrix}, \n",
    "\\end{equation}\n",
    "\n",
    "where we have $n$ training instances at our disposal. Once the model is fit, it can be\n",
    "used to predict the labels of new instances uses a kernel matrix of the following form, for which test instances are denoted with a $*$: \n",
    "\\begin{equation}\n",
    "K = \n",
    "\\begin{bmatrix}\n",
    "    k(\\mathbf{x_1}^*,\\mathbf{x_1}) & ... & k(\\mathbf{x_1}^*,\\mathbf{x_n}) \\\\\n",
    "    \\vdots & & \\vdots \\\\\n",
    "    k(\\mathbf{x_L}^*,\\mathbf{x_1}) & ... & k(\\mathbf{x_L}^*,\\mathbf{x_n}) \\\\\n",
    "\\end{bmatrix}, \n",
    "\\end{equation}\n",
    "\n",
    "where we now have $L$ test instances. Using a kernel gives rise to a whole scala of machine learning methods: \n",
    "- Support Vector Machines (previous lecture)\n",
    "- Kernel Principal Component Analysis\n",
    "- Kernel Logistic Regression (this lecture)\n",
    "- Kernel Ridge Regression (this lecture)\n",
    "- ....\n"
   ]
  },
  {
   "cell_type": "markdown",
   "metadata": {},
   "source": [
    "<div class=\"alert alert-success\">\n",
    "\n",
    "<b>EXERCISE 2: \n",
    "<br>\n",
    "a) Implement the rbf-kernel and calculate the kernel matrix for the previous dataset. In other words, expand the dataset from the first exercise to the new 'kernel' space. (Tip: You can do this yourself, or use your beloved machine learning library). \n",
    "<br>\n",
    "b) Fit a logistic regression model to the expanded features, using the kernel matrix. In this way, we are building our own kernel logistic regression model. What is the performance on the test set?\n",
    "<br>\n",
    "c) Which other kernels might work for this dataset? \n",
    " </b>\n",
    "</div>"
   ]
  },
  {
   "cell_type": "code",
   "execution_count": null,
   "metadata": {},
   "outputs": [],
   "source": [
    "from sklearn.metrics.pairwise import polynomial_kernel\n",
    "from sklearn.metrics.pairwise import rbf_kernel\n",
    "K_train = rbf_kernel(circles_train,circles_train)\n",
    "print(K_train.shape)\n",
    "K_test = rbf_kernel(circles_test,circles_train)\n",
    "print(K_test.shape)\n",
    "lr = LogisticRegression(penalty='l2')\n",
    "lr.fit(K_train,labels_train)\n",
    "pred_kernel = lr.predict(K_test)\n",
    "acc_kernel = accuracy_score(labels_test, pred_kernel)\n",
    "print(acc_kernel)"
   ]
  },
  {
   "cell_type": "markdown",
   "metadata": {},
   "source": [
    "Example for rbf-kernel matrix, which you calculate yourself: "
   ]
  },
  {
   "cell_type": "code",
   "execution_count": null,
   "metadata": {},
   "outputs": [],
   "source": [
    "def rbfKernel(X1, X2, sigma=0.5):\n",
    "    \"\"\"(Pre)calculates kernel Matrix K\"\"\"\n",
    "\n",
    "    K_matrix = np.zeros((X1.shape[0], X2.shape[0]))\n",
    "    for i, x1 in enumerate(X1):\n",
    "        for j, x2 in enumerate(X2):\n",
    "            #Make sure vectors are column vectors: \n",
    "            x1 = x1.flatten()\n",
    "            x2 = x2.flatten()\n",
    "            K_matrix[i, j] = np.exp(- np.sum( np.power((x1 - x2),2) ) / float(2*(sigma**2) ) )\n",
    "    return K_matrix\n",
    "\n",
    "K_train = rbfKernel(circles_train,circles_train)\n",
    "K_test = rbfKernel(circles_test,circles_train)\n",
    "lr.fit(K_train,labels_train)\n",
    "pred_kernel = lr.predict(K_test)\n",
    "acc_kernel = accuracy_score(labels_test, pred_kernel)\n",
    "print(acc_kernel)"
   ]
  },
  {
   "cell_type": "markdown",
   "metadata": {},
   "source": [
    "## Kernel Ridge Regression"
   ]
  },
  {
   "cell_type": "markdown",
   "metadata": {},
   "source": [
    "As stated, lots of methods make use of kernels. Another example is ridge regression, which can be extended to kernel ridge regression (KRR) in quite a standard way. By making use of the kernel trick, the method will fit a linear model (using an $l_2$-penalty) in the expanded kernel space. "
   ]
  },
  {
   "cell_type": "markdown",
   "metadata": {},
   "source": [
    "We will now have a look at the 'concreteComprStrength.txt' dataset. This dataset can be used to predict the compressive strength of concrete based on its composition. Have a look at the file 'concreteComprStrength.info' for more information concerning the variables. The target variable to predict is the 'Concrete compressive strength'.  "
   ]
  },
  {
   "cell_type": "markdown",
   "metadata": {},
   "source": [
    "<div class=\"alert alert-success\">\n",
    "\n",
    "<b>EXERCISE 3: \n",
    "<br>\n",
    "a) Look at the implementation of ridge regression and kernel ridge regression. Implement both of them to analyze the `concrete` dataset. For KRR, try both the polynomial and rbf-kernel. Which one works better? Evaluate your performance on a 30% held-out test set in terms of the mean squared error (MSE). \n",
    "<br>\n",
    "b) KRR can be tweaked in various ways. How many hyperparameters do you have? Choose the polynomial kernel and start doing this by hand to get a feel of the hyperparameters. What's the influence of each hyperparameter? Can you visualize this? \n",
    "<br> \n",
    " </b>\n",
    "</div>"
   ]
  },
  {
   "cell_type": "code",
   "execution_count": null,
   "metadata": {},
   "outputs": [],
   "source": [
    "##3a: \n",
    "from sklearn.model_selection import train_test_split\n",
    "from sklearn.kernel_ridge import KernelRidge\n",
    "from sklearn.linear_model import RidgeCV\n",
    "from sklearn.preprocessing import StandardScaler\n",
    "from sklearn.metrics import mean_squared_error\n",
    "\n",
    "!wget https://raw.githubusercontent.com/tfmortie/teaching/Kernels/concreteComprStrength.txt\n",
    "df = pd.read_table('concreteComprStrength.txt', delim_whitespace=True, header=0, index_col=None)\n",
    "df = df.sample(frac=1)\n",
    "features = ['cement', 'blastFurnaceSlag', 'flyAsh', 'water', 'superelastizer', 'coarseAggregate', 'fineAggregate', 'age']\n",
    "target = ['compressiveStrength']\n",
    "\n",
    "X_train, X_test, y_train, y_test = train_test_split(df.loc[:,features], df.loc[:,target], test_size=0.30, random_state=85)\n",
    "scaler = StandardScaler()\n",
    "scaler.fit(X_train)\n",
    "X_train_stand = scaler.transform(X_train)\n",
    "X_test_stand = scaler.transform(X_test)\n",
    "\n",
    "rr = RidgeCV()\n",
    "rr.fit(X_train_stand,y_train)\n",
    "y_pred = rr.predict(X_test_stand)\n",
    "mse = mean_squared_error(y_test,y_pred)\n",
    "print('MSE Ridge Regression: ' + str(mse))\n",
    "\n",
    "krr = KernelRidge(alpha=1, kernel='poly', gamma=0.1, degree=5)\n",
    "krr.fit(X_train_stand,y_train)\n",
    "y_pred = krr.predict(X_test_stand)\n",
    "mse = mean_squared_error(y_test,y_pred)\n",
    "print('MSE Kernel Ridge Regression using polynomial kernel: ' + str(mse))\n",
    "\n",
    "krr = KernelRidge(alpha=1, kernel='rbf', gamma=0.1)\n",
    "krr.fit(X_train_stand,y_train)\n",
    "y_pred = krr.predict(X_test_stand)\n",
    "mse = mean_squared_error(y_test,y_pred)\n",
    "print('MSE Kernel Ridge Regression using rbf kernel: ' + str(mse))\n",
    "\n"
   ]
  },
  {
   "cell_type": "code",
   "execution_count": null,
   "metadata": {},
   "outputs": [],
   "source": [
    "##3b: \n",
    "alphas = np.logspace(-3,2,50)\n",
    "mse_alphas = np.zeros(len(alphas))\n",
    "i=0\n",
    "for alpha in alphas: \n",
    "    krr = KernelRidge(alpha=alpha, kernel='poly', gamma=1, degree=2)\n",
    "    krr.fit(X_train_stand,y_train)\n",
    "    y_pred = krr.predict(X_test_stand)\n",
    "    mse_alphas[i] = mean_squared_error(y_test,y_pred)\n",
    "    i+=1\n",
    "\n",
    "fig, ax = plt.subplots()\n",
    "ax.scatter(alphas,mse_alphas, c='r');\n",
    "ax.set_xlabel(r'$\\lambda$', size=18)\n",
    "ax.set_ylabel('MSE', size=18)\n",
    "ax.set_xscale('log')\n",
    "ax.set_xlim(0.001,100)\n",
    "plt.show()\n",
    "\n",
    "gammas = np.logspace(-3,2,50)\n",
    "mse_gammas = np.zeros(len(gammas))\n",
    "i=0\n",
    "for gamma in gammas: \n",
    "    krr = KernelRidge(alpha=1, kernel='poly', gamma=gamma, degree=2)\n",
    "    krr.fit(X_train_stand,y_train)\n",
    "    y_pred = krr.predict(X_test_stand)\n",
    "    mse_gammas[i] = mean_squared_error(y_test,y_pred)\n",
    "    i+=1\n",
    "\n",
    "fig, ax = plt.subplots()\n",
    "ax.scatter(gammas,mse_gammas, c='r');\n",
    "ax.set_xlabel(r'$\\gamma$', size=18)\n",
    "ax.set_ylabel('MSE', size=18)\n",
    "ax.set_xscale('log')\n",
    "ax.set_xlim(0.001,100)\n",
    "plt.show()\n",
    "\n",
    "degrees = np.arange(1,10)\n",
    "mse_degrees = np.zeros(len(degrees))\n",
    "i=0\n",
    "for degree in degrees: \n",
    "    krr = KernelRidge(alpha=1, kernel='poly', gamma=0.1, degree=degree)\n",
    "    krr.fit(X_train_stand,y_train)\n",
    "    y_pred = krr.predict(X_test_stand)\n",
    "    mse_degrees[i] = mean_squared_error(y_test,y_pred)\n",
    "    i+=1\n",
    "\n",
    "fig, ax = plt.subplots()\n",
    "ax.scatter(degrees,mse_degrees, c='r');\n",
    "ax.set_xlabel('Degree', size=18)\n",
    "ax.set_ylabel('MSE', size=18)\n",
    "ax.set_xlim(0,12)\n",
    "plt.show()"
   ]
  }
 ],
 "metadata": {
  "anaconda-cloud": {},
  "kernelspec": {
   "display_name": "Python 3.9.1 ('predmod')",
   "language": "python",
   "name": "python3"
  },
  "language_info": {
   "codemirror_mode": {
    "name": "ipython",
    "version": 3
   },
   "file_extension": ".py",
   "mimetype": "text/x-python",
   "name": "python",
   "nbconvert_exporter": "python",
   "pygments_lexer": "ipython3",
   "version": "3.9.1"
  },
  "vscode": {
   "interpreter": {
    "hash": "79f7229f32224f2aa3b7ff71071c711311f5fb22ad26e5b83f3cb875eb6ce551"
   }
  }
 },
 "nbformat": 4,
 "nbformat_minor": 4
}
